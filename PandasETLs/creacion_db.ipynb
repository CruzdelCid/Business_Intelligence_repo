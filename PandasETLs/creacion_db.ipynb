{
 "cells": [
  {
   "attachments": {},
   "cell_type": "markdown",
   "metadata": {},
   "source": [
    "## Conexion a la base de datos"
   ]
  },
  {
   "cell_type": "code",
   "execution_count": 26,
   "metadata": {},
   "outputs": [],
   "source": [
    "import psycopg2\n",
    "import pymysql\n",
    "from sqlalchemy import create_engine"
   ]
  },
  {
   "cell_type": "code",
   "execution_count": 27,
   "metadata": {},
   "outputs": [],
   "source": [
    "conn = psycopg2.connect(\n",
    "    database = \"postgres\",\n",
    "    user = \"postgres\",\n",
    "    host = \"localhost\", \n",
    "    password = \"example\", \n",
    "    port = \"5432\"\n",
    "    )"
   ]
  },
  {
   "cell_type": "code",
   "execution_count": 28,
   "metadata": {},
   "outputs": [],
   "source": [
    "cursor = conn.cursor()"
   ]
  },
  {
   "cell_type": "code",
   "execution_count": 29,
   "metadata": {},
   "outputs": [
    {
     "name": "stdout",
     "output_type": "stream",
     "text": [
      "Connection stablished to:  ('PostgreSQL 15.2 (Debian 15.2-1.pgdg110+1) on x86_64-pc-linux-gnu, compiled by gcc (Debian 10.2.1-6) 10.2.1 20210110, 64-bit',)\n"
     ]
    }
   ],
   "source": [
    "data = cursor.execute(\"select version();\")\n",
    "data = cursor.fetchone()\n",
    "print(\"Connection stablished to: \", data)"
   ]
  },
  {
   "cell_type": "code",
   "execution_count": 30,
   "metadata": {},
   "outputs": [
    {
     "name": "stdout",
     "output_type": "stream",
     "text": [
      "[(datetime.datetime(2023, 2, 22, 5, 13, 4, 774692, tzinfo=datetime.timezone.utc),)]\n"
     ]
    }
   ],
   "source": [
    "cursor.execute(\"select now()\")\n",
    "data = cursor.fetchall()\n",
    "print(data)"
   ]
  },
  {
   "cell_type": "code",
   "execution_count": 31,
   "metadata": {},
   "outputs": [],
   "source": [
    "conn.commit()"
   ]
  },
  {
   "attachments": {},
   "cell_type": "markdown",
   "metadata": {},
   "source": [
    "## Creacion de tablas"
   ]
  },
  {
   "cell_type": "code",
   "execution_count": 32,
   "metadata": {},
   "outputs": [
    {
     "name": "stdout",
     "output_type": "stream",
     "text": [
      "La tabla d_albums fue creada exitosamente...\n"
     ]
    }
   ],
   "source": [
    "### Tabla de d_albums \n",
    "\n",
    "cursor.execute(\"DROP TABLE IF EXISTS f_playlist_tracks\")\n",
    "cursor.execute(\"DROP TABLE IF EXISTS d_albums\")\n",
    "\n",
    "sql  = \"\"\"\n",
    "CREATE TABLE d_albums(\n",
    "    sk_id bigint PRIMARY KEY,\n",
    "    bk_id varchar(64),\n",
    "    name varchar(256)\n",
    ");\n",
    "\"\"\"\n",
    "\n",
    "cursor.execute(sql)\n",
    "\n",
    "print(\"La tabla d_albums fue creada exitosamente...\")\n",
    "conn.commit()"
   ]
  },
  {
   "cell_type": "code",
   "execution_count": 33,
   "metadata": {},
   "outputs": [
    {
     "name": "stdout",
     "output_type": "stream",
     "text": [
      "La tabla d_artists fue creada exitosamente...\n"
     ]
    }
   ],
   "source": [
    "### Tabla de d_artists \n",
    "\n",
    "cursor.execute(\"DROP TABLE IF EXISTS d_artists\")\n",
    "\n",
    "sql  = \"\"\"\n",
    "CREATE TABLE d_artists(\n",
    "    sk_id bigint PRIMARY KEY,\n",
    "    bk_id varchar(64),\n",
    "    name varchar(256)\n",
    ");\n",
    "\"\"\"\n",
    "\n",
    "cursor.execute(sql)\n",
    "\n",
    "print(\"La tabla d_artists fue creada exitosamente...\")\n",
    "conn.commit()"
   ]
  },
  {
   "cell_type": "code",
   "execution_count": 34,
   "metadata": {},
   "outputs": [
    {
     "name": "stdout",
     "output_type": "stream",
     "text": [
      "La tabla d_playlists fue creada exitosamente...\n"
     ]
    }
   ],
   "source": [
    "### Tabla de d_playlists \n",
    "\n",
    "cursor.execute(\"DROP TABLE IF EXISTS d_playlists\")\n",
    "\n",
    "sql  = \"\"\"\n",
    "create table d_playlists\n",
    "(\n",
    "    sk_id            bigint PRIMARY KEY ,\n",
    "    bk_id            bigint,\n",
    "    name             varchar(64),\n",
    "    collaborative    bool,\n",
    "    last_modified_at timestamp,\n",
    "    num_followers    bigint,\n",
    "    num_edits        bigint\n",
    ");\n",
    "\"\"\"\n",
    "\n",
    "cursor.execute(sql)\n",
    "\n",
    "print(\"La tabla d_playlists fue creada exitosamente...\")\n",
    "conn.commit()"
   ]
  },
  {
   "cell_type": "code",
   "execution_count": 35,
   "metadata": {},
   "outputs": [
    {
     "name": "stdout",
     "output_type": "stream",
     "text": [
      "La tabla tracks fue creada exitosamente...\n"
     ]
    }
   ],
   "source": [
    "### Tabla de d_tracks \n",
    "\n",
    "cursor.execute(\"DROP TABLE IF EXISTS d_tracks\")\n",
    "\n",
    "sql  = \"\"\"\n",
    "CREATE TABLE d_tracks(\n",
    "    sk_id bigint PRIMARY KEY,\n",
    "    bk_id varchar(64),\n",
    "    name varchar(256),\n",
    "    duration bigint\n",
    ");\n",
    "\"\"\"\n",
    "\n",
    "cursor.execute(sql)\n",
    "\n",
    "print(\"La tabla tracks fue creada exitosamente...\")\n",
    "conn.commit()"
   ]
  },
  {
   "cell_type": "code",
   "execution_count": 36,
   "metadata": {},
   "outputs": [
    {
     "name": "stdout",
     "output_type": "stream",
     "text": [
      "La tabla f_playlist_tracks fue creada exitosamente...\n"
     ]
    }
   ],
   "source": [
    "### Tabla de f_playlist_tracks \n",
    "\n",
    "cursor.execute(\"DROP TABLE IF EXISTS f_playlist_tracks\")\n",
    "\n",
    "sql  = \"\"\"\n",
    "CREATE TABLE f_playlist_tracks(\n",
    "    id bigint primary key,\n",
    "    sk_playlist bigint,\n",
    "    sk_artist bigint,\n",
    "    sk_album bigint,\n",
    "    sk_track bigint,\n",
    "    track_position int,\n",
    "     CONSTRAINT fk_playlist\n",
    "      FOREIGN KEY(sk_playlist)\n",
    "\t  REFERENCES d_playlists(sk_id)\n",
    "\t  ON DELETE CASCADE,\n",
    "\t  CONSTRAINT fk_artist\n",
    "      FOREIGN KEY(sk_artist)\n",
    "\t  REFERENCES d_artists(sk_id)\n",
    "\t  ON DELETE CASCADE,\n",
    "\t  CONSTRAINT fk_album\n",
    "      FOREIGN KEY(sk_album)\n",
    "\t  REFERENCES d_albums(sk_id)\n",
    "\t  ON DELETE CASCADE,\n",
    "\t  CONSTRAINT fk_track\n",
    "      FOREIGN KEY(sk_track)\n",
    "\t  REFERENCES d_tracks(sk_id)\n",
    "\t  ON DELETE CASCADE\n",
    "\n",
    ");\n",
    "\"\"\"\n",
    "\n",
    "cursor.execute(sql)\n",
    "\n",
    "print(\"La tabla f_playlist_tracks fue creada exitosamente...\")\n",
    "conn.commit()"
   ]
  },
  {
   "cell_type": "code",
   "execution_count": 37,
   "metadata": {},
   "outputs": [],
   "source": [
    "# Fin de la conexión con la base de datos\n",
    "cursor.close()\n",
    "conn.close()"
   ]
  }
 ],
 "metadata": {
  "kernelspec": {
   "display_name": "ml",
   "language": "python",
   "name": "python3"
  },
  "language_info": {
   "codemirror_mode": {
    "name": "ipython",
    "version": 3
   },
   "file_extension": ".py",
   "mimetype": "text/x-python",
   "name": "python",
   "nbconvert_exporter": "python",
   "pygments_lexer": "ipython3",
   "version": "3.9.15"
  },
  "orig_nbformat": 4,
  "vscode": {
   "interpreter": {
    "hash": "437bae9d93a749be7b5876a2739b6f5ef0514005697fc2cf39fcfd68c9ec9f93"
   }
  }
 },
 "nbformat": 4,
 "nbformat_minor": 2
}
